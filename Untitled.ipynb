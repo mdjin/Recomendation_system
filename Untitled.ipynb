{
 "cells": [
  {
   "cell_type": "code",
   "execution_count": null,
   "id": "af350365",
   "metadata": {},
   "outputs": [],
   "source": [
    "import numpy as np\n",
    "import pandas as pd\n",
    "from sklearn.decomposition import NMF\n",
    "from sklearn.metrics.pairwise import cosine_similarity\n",
    "\n",
    "# Load the data\n",
    "data = pd.read_csv('medical_procedures_data.csv')\n",
    "\n",
    "# Convert data into user-item matrix\n",
    "matrix = data.pivot_table(index='patient_id', columns='procedure_id', values='rating').fillna(0)\n",
    "\n",
    "# Split the data into training and testing sets\n",
    "train_data = matrix.iloc[:80, :]\n",
    "test_data = matrix.iloc[80:, :]\n",
    "\n",
    "# Fit the NMF model to the training data\n",
    "nmf_model = NMF(n_components=30)\n",
    "nmf_model.fit(train_data)\n",
    "\n",
    "# Generate the user latent matrix\n",
    "user_latent = nmf_model.transform(matrix)\n",
    "\n",
    "# Generate the item latent matrix\n",
    "item_latent = nmf_model.components_.T\n",
    "\n",
    "# Compute the item-item similarity matrix\n",
    "item_similarity = cosine_similarity(item_latent)\n",
    "\n",
    "# Predict the ratings for the test data\n",
    "predicted_ratings = np.dot(user_latent[80:, :], item_latent.T)\n",
    "\n",
    "# Recommend medical procedures for the patients\n",
    "def recommend_procedures(patient_id, top_n=10):\n",
    "    # Get the predicted ratings for the specified patient\n",
    "    patient_ratings = predicted_ratings[patient_id-1, :]\n",
    "    \n",
    "    # Get the indices of the top-rated procedures\n",
    "    top_procedures_idx = np.argsort(patient_ratings)[::-1][:top_n]\n",
    "    \n",
    "    # Get the names of the recommended procedures\n",
    "    recommended_procedures = []\n",
    "    for i in top_procedures_idx:\n",
    "        recommended_procedures.append(data.loc[data['procedure_id'] == i+1, 'procedure_name'].iloc[0])\n",
    "    \n",
    "    return recommended_procedures\n",
    "\n",
    "# Example usage\n",
    "print(recommend_procedures(81))\n"
   ]
  }
 ],
 "metadata": {
  "kernelspec": {
   "display_name": "Python 3 (ipykernel)",
   "language": "python",
   "name": "python3"
  },
  "language_info": {
   "codemirror_mode": {
    "name": "ipython",
    "version": 3
   },
   "file_extension": ".py",
   "mimetype": "text/x-python",
   "name": "python",
   "nbconvert_exporter": "python",
   "pygments_lexer": "ipython3",
   "version": "3.9.13"
  }
 },
 "nbformat": 4,
 "nbformat_minor": 5
}
